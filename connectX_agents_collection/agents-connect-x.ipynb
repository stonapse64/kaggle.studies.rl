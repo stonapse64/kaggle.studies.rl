{
 "cells": [
  {
   "cell_type": "markdown",
   "id": "190c9ee6",
   "metadata": {
    "papermill": {
     "duration": 0.002532,
     "end_time": "2024-09-17T08:32:03.068797",
     "exception": false,
     "start_time": "2024-09-17T08:32:03.066265",
     "status": "completed"
    },
    "tags": []
   },
   "source": [
    "[agents](https://www.kaggle.com/competitions/connectx/code) [Connect X](https://www.kaggle.com/competitions/connectx/leaderboard)\n",
    "\n",
    "[agents Connect X 1](https://www.kaggle.com/code/vyacheslavbolotin/agents-connect-x-1) - [minimax](https://notes.bencuan.me/cs61b/algorithms/minimax/)\n",
    "\n",
    "[agents Connect X 2](https://www.kaggle.com/code/vyacheslavbolotin/agents-connect-x-2) - [tree-based](https://notes.bencuan.me/cs61b/algorithms/minimax/)\n",
    "\n",
    "[agents Connect X 3](https://www.kaggle.com/code/vyacheslavbolotin/agents-connect-x-3) - [rule-based](https://en.wikipedia.org/wiki/Rule-based_machine_learning)\n",
    "\n",
    "[agents Connect X 4](https://www.kaggle.com/code/vyacheslavbolotin/agents-connect-x-4) - [r+t combine](https://www.kaggle.com/code/vyacheslavbolotin/agents-connect-x-4)\n",
    "\n",
    "[agents Connect X 5](https://www.kaggle.com/code/vyacheslavbolotin/agents-connect-x-5) - [bitboard](https://en.wikipedia.org/wiki/Bitboard), [MCTS](https://en.wikipedia.org/wiki/Monte_Carlo_tree_search)\n",
    "\n",
    "[agents Connect X 6](https://www.kaggle.com/code/vyacheslavbolotin/agents-connect-x-6) - [direct learning](https://www.kaggle.com/code/dott1718/kdb-workshop)\n",
    "\n",
    "[agents Connect X 7](https://www.kaggle.com/competitions/connectx/code) - [Reinforcement learning](https://www.kaggle.com/code/vyacheslavbolotin/agents-connect-x-7i)"
   ]
  },
  {
   "cell_type": "markdown",
   "id": "9261ac9f",
   "metadata": {
    "papermill": {
     "duration": 0.001595,
     "end_time": "2024-09-17T08:32:03.072453",
     "exception": false,
     "start_time": "2024-09-17T08:32:03.070858",
     "status": "completed"
    },
    "tags": []
   },
   "source": [
    "Leaderboard of  [Connect 4](https://www.kaggle.com/competitions/connect-4/leaderboard), a copy of [Connect X](https://www.kaggle.com/competitions/connectx/leaderboard), is represented not by us developers, but by our already well-known published agents."
   ]
  }
 ],
 "metadata": {
  "kaggle": {
   "accelerator": "none",
   "dataSources": [
    {
     "databundleVersionId": 899221,
     "sourceId": 17592,
     "sourceType": "competition"
    }
   ],
   "dockerImageVersionId": 30635,
   "isGpuEnabled": false,
   "isInternetEnabled": true,
   "language": "python",
   "sourceType": "notebook"
  },
  "kernelspec": {
   "display_name": "Python 3",
   "language": "python",
   "name": "python3"
  },
  "language_info": {
   "codemirror_mode": {
    "name": "ipython",
    "version": 3
   },
   "file_extension": ".py",
   "mimetype": "text/x-python",
   "name": "python",
   "nbconvert_exporter": "python",
   "pygments_lexer": "ipython3",
   "version": "3.10.12"
  },
  "papermill": {
   "default_parameters": {},
   "duration": 5.236993,
   "end_time": "2024-09-17T08:32:03.498923",
   "environment_variables": {},
   "exception": null,
   "input_path": "__notebook__.ipynb",
   "output_path": "__notebook__.ipynb",
   "parameters": {},
   "start_time": "2024-09-17T08:31:58.261930",
   "version": "2.4.0"
  }
 },
 "nbformat": 4,
 "nbformat_minor": 5
}
