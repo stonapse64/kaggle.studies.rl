{
 "cells": [
  {
   "cell_type": "markdown",
   "metadata": {},
   "source": [
    "This is a notebook to install and / or update the packages needed for my work\n",
    "on the Kaggle course \"Intro to Game AI and Reinforcement Learning\" \n",
    "@ https://www.kaggle.com/learn/intro-to-game-ai-and-reinforcement-learning, \n",
    "the practice sessions for kaggle-environments \n",
    "@ https://pypi.org/project/kaggle-environments/ and the learning from [Reinforcement Learning in Python with Stable Baselines 3](https://pythonprogramming.net/introduction-reinforcement-learning-stable-baselines-3-tutorial/).\n",
    "\n",
    "stonapse, Januar 2025"
   ]
  },
  {
   "cell_type": "code",
   "execution_count": null,
   "metadata": {},
   "outputs": [],
   "source": [
    "! pip install -Uqq numpy\n",
    "! pip install -Uqq pandas\n",
    "! pip install -Uqq kaggle-environments\n",
    "! pip install -Uqq termcolor\n",
    "! pip install -Uqq pygame\n",
    "! pip install -Uqq stable-baselines3\n",
    "! pip install -Uqq stable-baselines3[extra]\n",
    "! pip install -Uqq tensorflow\n",
    "! pip install -Uqq swig\n",
    "! pip install -Uqq \"gymnasium[box2d]\""
   ]
  }
 ],
 "metadata": {
  "language_info": {
   "name": "python"
  }
 },
 "nbformat": 4,
 "nbformat_minor": 2
}
