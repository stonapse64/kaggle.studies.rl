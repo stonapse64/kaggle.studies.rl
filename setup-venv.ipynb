{
 "cells": [
  {
   "cell_type": "markdown",
   "metadata": {},
   "source": [
    "This is a notebook to install and / or update the packages needed for my work\n",
    "on the Kaggle course \"Intro to Game AI and Reinforcement Learning\" \n",
    "@ https://www.kaggle.com/learn/intro-to-game-ai-and-reinforcement-learning and \n",
    "the practice sessions for kaggle-environments \n",
    "@ https://pypi.org/project/kaggle-environments/\n",
    "\n",
    "stonapse, Januar 2025"
   ]
  },
  {
   "cell_type": "code",
   "execution_count": null,
   "metadata": {},
   "outputs": [],
   "source": [
    "! pip install -Uqq numpy\n",
    "! pip install -Uqq pandas\n",
    "! pip install -Uqq kaggle-environments"
   ]
  }
 ],
 "metadata": {
  "language_info": {
   "name": "python"
  }
 },
 "nbformat": 4,
 "nbformat_minor": 2
}
